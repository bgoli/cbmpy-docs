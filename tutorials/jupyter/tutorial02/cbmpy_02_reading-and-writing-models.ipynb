{
 "cells": [
  {
   "cell_type": "markdown",
   "metadata": {},
   "source": [
    "# CBMPy Tutorial 02 Reading and writing models"
   ]
  },
  {
   "cell_type": "markdown",
   "metadata": {},
   "source": [
    "Here I cover the basics of reading and writing constraint-based models in different formats. For more information please see the CBMPy reference guide (available from http://cbmpy.sourceforge.net).\n",
    "\n",
    "Additional files needed for this tutorial: \n",
    "- BIGG2_iIT341.xml, L3FBCV1_iJR904.glc.xml, L2FBA_iJR904.glc.xml \n",
    "- CoreModelDefinitions.py \n",
    "- bounds.csv, reactions.csv \n",
    "\n",
    "As always we start by importing CBMPy"
   ]
  },
  {
   "cell_type": "code",
   "execution_count": 33,
   "metadata": {},
   "outputs": [],
   "source": [
    "import cbmpy"
   ]
  },
  {
   "cell_type": "markdown",
   "metadata": {},
   "source": [
    "## Reading and writing models in SBML"
   ]
  },
  {
   "cell_type": "markdown",
   "metadata": {},
   "source": [
    "The Systems Biology Markup Language (SBML) is widely used format used for the encoding of biological models. However, prior to the development of the Flux Balance Constraints (FBC) package [Olivier & Bergmann](http://www.ncbi.nlm.nih.gov/pubmed/26528567) it was used in a variety of non-standard, tool specific ways. CBMPy includes support for the reading and writing of a variety of SBML formats. "
   ]
  },
  {
   "cell_type": "markdown",
   "metadata": {},
   "source": [
    "### Generic load/save functions"
   ]
  },
  {
   "cell_type": "markdown",
   "metadata": {},
   "source": [
    "The `loadModel` function is the easiest to use and will try and work out what version of SBML the file uses that you are trying to load. The `saveModel` function will write the model using the latest SBML FBC standard."
   ]
  },
  {
   "cell_type": "code",
   "execution_count": 34,
   "metadata": {},
   "outputs": [
    {
     "name": "stdout",
     "output_type": "stream",
     "text": [
      "Attempting to load SBML file: iAF1260b.xml\n",
      "SBML Level 3 FBC version 2 model detected, loading with cbmpy.readSBML3FBC()\n",
      "FBC version: 2\n",
      "M.getNumReactions: 2388\n",
      "M.getNumSpecies: 1668\n",
      "FBC.getNumObjectives: 1\n",
      "FBC.getNumParameters: 17\n",
      "FBC.getNumGeneProducts: 1261\n",
      "Zero dimension compartment detected: c\n",
      "Zero dimension compartment detected: p\n",
      "Zero dimension compartment detected: e\n",
      "INFO: Active objective: obj\n",
      "Adding objective: obj\n",
      "Groups support: <GroupsModelPlugin>\n",
      "Group.getNumGroups: 1\n",
      "\n",
      "SBML3 load time: 4.732\n",
      "\n",
      "\n",
      "INFO: using FBC version: 2\n",
      "INFO: V2 bounds compression enabled\n",
      "INFO: added 0 non fluxbound parameters to model\n",
      "Model exported as: new_model.xml\n"
     ]
    }
   ],
   "source": [
    "model = cbmpy.loadModel('iAF1260b.xml')\n",
    "cbmpy.saveModel(model, 'new_model.xml')"
   ]
  },
  {
   "cell_type": "markdown",
   "metadata": {},
   "source": [
    "These functions wrap the lower level functions which have many more options to control the loading/saving operation, however, if you know what format the file is you want to load you can use the lower-level functions (faster)."
   ]
  },
  {
   "cell_type": "markdown",
   "metadata": {},
   "source": [
    "### SBML Level 3 FBC"
   ]
  },
  {
   "cell_type": "markdown",
   "metadata": {},
   "source": [
    "The recommended format for writing models, the FBC format exists in two verions. CBMPy transparently reads both formats while the user may select which format to write, here we read in two files, the first FBCv1 and the second FBCv2."
   ]
  },
  {
   "cell_type": "code",
   "execution_count": 35,
   "metadata": {},
   "outputs": [
    {
     "name": "stdout",
     "output_type": "stream",
     "text": [
      "FBC version: 1\n",
      "M.getNumReactions: 1066\n",
      "M.getNumSpecies: 904\n",
      "FBC.getNumObjectives: 1\n",
      "FBC.getNumGeneAssociations: 1066\n",
      "FBC.getNumFluxBounds: 2132\n",
      "INFO: Active objective: obj1\n",
      "Adding objective: obj1\n",
      "\n",
      "SBML3 load time: 1.572\n",
      "\n",
      "FBC version: 2\n",
      "M.getNumReactions: 554\n",
      "M.getNumSpecies: 485\n",
      "FBC.getNumObjectives: 1\n",
      "FBC.getNumParameters: 15\n",
      "FBC.getNumGeneProducts: 339\n",
      "Zero dimension compartment detected: c\n",
      "Zero dimension compartment detected: e\n",
      "INFO: Active objective: obj\n",
      "Adding objective: obj\n",
      "Groups support: <GroupsModelPlugin>\n",
      "Group.getNumGroups: 70\n",
      "\n",
      "SBML3 load time: 0.736\n",
      "\n"
     ]
    }
   ],
   "source": [
    "cmodv1 = cbmpy.readSBML3FBC('L3FBCV1_iJR904.glc.xml')\n",
    "cmodv2 = cbmpy.readSBML3FBC('BIGG2_iIT341.xml')"
   ]
  },
  {
   "cell_type": "markdown",
   "metadata": {},
   "source": [
    "Both files are loaded with the same files and can be analysed in CBMPy. Writing/changing SBML versions is as easy, let's write the two models back to file in different formats:"
   ]
  },
  {
   "cell_type": "code",
   "execution_count": 36,
   "metadata": {},
   "outputs": [
    {
     "name": "stdout",
     "output_type": "stream",
     "text": [
      "\n",
      "INFO: using FBC version: 1\n",
      "INFO: added 0 non fluxbound parameters to model\n",
      "Model exported as: wasV2nowV1.xml\n",
      "\n",
      "INFO: using FBC version: 2\n",
      "INFO: V2 bounds compression enabled\n",
      "INFO: added 0 non fluxbound parameters to model\n",
      "Model exported as: wasV1nowV2.xml\n"
     ]
    }
   ],
   "source": [
    "cbmpy.writeSBML3FBC(cmodv2, 'wasV2nowV1.xml')\n",
    "cbmpy.writeSBML3FBCV2(cmodv1, 'wasV1nowV2.xml')"
   ]
  },
  {
   "cell_type": "markdown",
   "metadata": {},
   "source": [
    "### SBML Level 2 FBA annotation"
   ]
  },
  {
   "cell_type": "markdown",
   "metadata": {},
   "source": [
    "Before the introduction of SBML Level 3 a Level 2 annotation was used to develop the FBC extension. CBMPy includes support for the format primarily to read files created by the [FAME](http://f-a-m-e.org) online constraint-based modelling system. As FAME now also reades SBML FBCv1 it is recommended not to use this format for encoding new models."
   ]
  },
  {
   "cell_type": "code",
   "execution_count": 37,
   "metadata": {},
   "outputs": [
    {
     "name": "stdout",
     "output_type": "stream",
     "text": [
      "Adding objective: obj1\n",
      "obj1 obj1\n",
      "INFO: used key(s) '['GENE ASSOCIATION']'\n",
      "INFO: Added 901 new genes and 864 associations to model\n"
     ]
    }
   ],
   "source": [
    "cmodfba = cbmpy.readSBML2FBA('L2FBA_iJR904.glc.xml')"
   ]
  },
  {
   "cell_type": "markdown",
   "metadata": {},
   "source": [
    "### SBML Level 2 \"COBRA\" dialect"
   ]
  },
  {
   "cell_type": "markdown",
   "metadata": {},
   "source": [
    "Prior to FBC a popular dialect for encoding constraint-based models was that used by the COBRA toolbox. Thanks to the trnaslation facilities provided by [libSBML](http://sbml.org/Software/libSBML) CBMPy can read/write this format."
   ]
  },
  {
   "cell_type": "code",
   "execution_count": 38,
   "metadata": {},
   "outputs": [
    {
     "name": "stdout",
     "output_type": "stream",
     "text": [
      "\n",
      "work_dir: d:\\vms_shared\\cbmpydocs\\cbmpy-tutorial-old\n",
      "output_dir: d:\\vms_shared\\cbmpydocs\\cbmpy-tutorial-old\n",
      "fname: L2CBR_iJR904.glc.xml\n",
      "newfname: d:\\vms_shared\\cbmpydocs\\cbmpy-tutorial-old\\L2CBR_iJR904.glc.xml.l3fbc.xml\n",
      "\n",
      "Read ...\n",
      "Read reports 0 errors\n",
      "\n",
      "Convert ...\n",
      "Convert returns result 0\n",
      "\n",
      "INFO: successfully converted file L2CBR_iJR904.glc.xml to d:\\vms_shared\\cbmpydocs\\cbmpy-tutorial-old\\L2CBR_iJR904.glc.xml.l3fbc.xml\n",
      "\n",
      "d:\\vms_shared\\cbmpydocs\\cbmpy-tutorial-old\\L2CBR_iJR904.glc.xml.l3fbc.xml\n",
      "FBC version: 1\n",
      "M.getNumReactions: 1075\n",
      "M.getNumSpecies: 904\n",
      "FBC.getNumObjectives: 1\n",
      "FBC.getNumGeneAssociations: 873\n",
      "FBC.getNumFluxBounds: 2149\n",
      "INFO: Active objective: obj\n",
      "Adding objective: obj\n",
      "\n",
      "SBML3 load time: 1.426\n",
      "\n",
      "\n",
      "INFO: using FBC version: 1\n",
      "INFO: added 0 non fluxbound parameters to model\n",
      "Model exported as: d:\\vms_shared\\cbmpydocs\\cbmpy-tutorial-old\\L2CBR_iJR904.glc.xml.l3fbc.xml\n",
      "\n",
      "INFO: SBML Level 3 + FBC file generated as: d:\\vms_shared\\cbmpydocs\\cbmpy-tutorial-old\\L2CBR_iJR904.glc.xml.l3fbc.xml\n"
     ]
    }
   ],
   "source": [
    "cobramod = cbmpy.readCOBRASBML('L2CBR_iJR904.glc.xml')"
   ]
  },
  {
   "cell_type": "markdown",
   "metadata": {},
   "source": [
    "Note that due to the inconsistent nature of this dialect, it is possible to read the encoded in different ways, the most relevant of these is the treatment of SBML fixed species or boundary metabolites. By default CMBPy assumes the more recent COBRA format that encoded these using the SBML `fixed` attribute. However, for older models (downloaded from the original BiGG database) an alternate strategy must be enabled by setting the option `fake_boundary_species_search=True` which enables the detection of a species status that has been encoded with overloaded id's. For all options available see the fucntion docstring.\n",
    "\n",
    "Depending on the COBRA encoding used the following function may be useful in extracting adiditonal model information. Note that it exists in the `CBTools` module which contains many useful functions for dealing with models. While it is strongly advised **not** to use the COBRA dialect for model storage and exchange it is possible to write using the CBWrite module."
   ]
  },
  {
   "cell_type": "code",
   "execution_count": 39,
   "metadata": {},
   "outputs": [
    {
     "name": "stdout",
     "output_type": "stream",
     "text": [
      "\n",
      "WARNING: saving in COBRA format may result in a loss of model information!\n",
      "\n",
      "\n",
      "INFO: using FBC version: 1\n",
      "INFO: added 0 non fluxbound parameters to model\n",
      "Model exported as: cobra_obsolete.xml\n",
      "\n",
      "work_dir: d:\\vms_shared\\cbmpydocs\\cbmpy-tutorial-old\n",
      "output_dir: d:\\vms_shared\\cbmpydocs\\cbmpy-tutorial-old\n",
      "fname: cobra_obsolete.xml\n",
      "newfname: d:\\vms_shared\\cbmpydocs\\cbmpy-tutorial-old\\cobra_obsolete.xml\n",
      "\n",
      "Read ...\n",
      "Converter reports 0 errors, this is probably normal.\n",
      "\n",
      "Convert ...\n",
      "Convert returns result 0\n",
      "\n",
      "INFO: successfully converted file cobra_obsolete.xml to d:\\vms_shared\\cbmpydocs\\cbmpy-tutorial-old\\cobra_obsolete.xml\n",
      "\n",
      "Model exported as: cobra_obsolete.xml\n"
     ]
    }
   ],
   "source": [
    "cbmpy.CBTools.processBiGGchemFormula(cobramod)\n",
    "cbmpy.CBWrite.writeCOBRASBML(cobramod, 'cobra_obsolete.xml')"
   ]
  },
  {
   "cell_type": "markdown",
   "metadata": {},
   "source": [
    "## Reading models from Python dictionaries"
   ]
  },
  {
   "cell_type": "markdown",
   "metadata": {
    "collapsed": true
   },
   "source": [
    "In this section I demonstrate how to read in models from Python dictionaries. This is an extremely flexible, and fast, way of creating a skeleton model that can then be expanded using CBMPy's model functions. Note that when using this format CBMPy will fill in many of the default attributes that are not specified here."
   ]
  },
  {
   "cell_type": "code",
   "execution_count": 40,
   "metadata": {},
   "outputs": [],
   "source": [
    "import cbmpy"
   ]
  },
  {
   "cell_type": "markdown",
   "metadata": {},
   "source": [
    "In this example the models have been defined as functions in a model library file `CoreModelDefinitions.py`."
   ]
  },
  {
   "cell_type": "code",
   "execution_count": 41,
   "metadata": {},
   "outputs": [],
   "source": [
    "import CoreModelDefinitions"
   ]
  },
  {
   "cell_type": "markdown",
   "metadata": {},
   "source": [
    " Here is an example of a Python model, note how it is a function that returns a set of dictionaries."
   ]
  },
  {
   "cell_type": "code",
   "execution_count": 42,
   "metadata": {},
   "outputs": [],
   "source": [
    "def Define_core_model_1():\n",
    "    \"\"\"\\nOriginal core model\\n\"\"\"\n",
    "    \n",
    "    model_name = 'core_model_1'\n",
    "    \n",
    "    Reactions ={'R01' : {'id' : 'R01', 'reversible' : False, 'reagents' : [(-1, 'X0'), (1, 'A')], 'SUBSYSTEM' : ''},\n",
    "                'R02' : {'id' : 'R02', 'reversible' : True, 'reagents' : [(-1, 'A'), (1, 'B')], 'SUBSYSTEM' : 'C1'},\n",
    "                'R03' : {'id' : 'R03', 'reversible' : True, 'reagents' : [(-1, 'A'), (1, 'C')], 'SUBSYSTEM' : 'C1'},\n",
    "                'R04' : {'id' : 'R04', 'reversible' : True, 'reagents' : [(-1, 'C'), (1, 'B')], 'SUBSYSTEM' : 'C1'},\n",
    "                'R05' : {'id' : 'R05', 'reversible' : False, 'reagents' : [(-1, 'B'), (1, 'D')], 'SUBSYSTEM' : ''},\n",
    "                'R06' : {'id' : 'R06', 'reversible' : False, 'reagents' : [(-1, 'D'), (1, 'E1')], 'SUBSYSTEM' : 'C2'},\n",
    "                'R07' : {'id' : 'R07', 'reversible' : False, 'reagents' : [(-1, 'E1'), (1, 'E2')], 'SUBSYSTEM' : 'C2'},\n",
    "                'R08' : {'id' : 'R08', 'reversible' : False, 'reagents' : [(-1, 'E2'), (1, 'G')], 'SUBSYSTEM' : 'C2'},\n",
    "                'R09' : {'id' : 'R09', 'reversible' : False, 'reagents' : [(-1, 'D'), (1, 'F1')], 'SUBSYSTEM' : 'C2'},\n",
    "                'R10' : {'id' : 'R10', 'reversible' : False, 'reagents' : [(-1, 'F1'), (1, 'F2')], 'SUBSYSTEM' : 'C2'},\n",
    "                'R11' : {'id' : 'R11', 'reversible' : False, 'reagents' : [(-1, 'F2'), (1, 'G')], 'SUBSYSTEM' : 'C2'},\n",
    "                'R12' : {'id' : 'R12', 'reversible' : False, 'reagents' : [(-1, 'G'), (1, 'H')], 'SUBSYSTEM' : ''},\n",
    "                'R13' : {'id' : 'R13', 'reversible' : False, 'reagents' : [(-1, 'H'), (1, 'I1')], 'SUBSYSTEM' : 'C3'},\n",
    "                'R14' : {'id' : 'R14', 'reversible' : True, 'reagents' : [(-1, 'I1'), (1, 'I2')], 'SUBSYSTEM' : 'C3'},\n",
    "                'R15' : {'id' : 'R15', 'reversible' : False, 'reagents' : [(-1, 'I2'), (1, 'L')], 'SUBSYSTEM' : 'C3'},\n",
    "                'R16' : {'id' : 'R16', 'reversible' : False, 'reagents' : [(-1, 'H'), (1, 'J1')], 'SUBSYSTEM' : 'C3'},\n",
    "                'R17' : {'id' : 'R17', 'reversible' : False, 'reagents' : [(-1, 'J1'), (1, 'J2')], 'SUBSYSTEM' : 'C3'},\n",
    "                'R18' : {'id' : 'R18', 'reversible' : False, 'reagents' : [(-1, 'J2'), (1, 'L')], 'SUBSYSTEM' : 'C3'},\n",
    "                'R19' : {'id' : 'R19', 'reversible' : True, 'reagents' : [(-1, 'I1'), (1, 'K1')], 'SUBSYSTEM' : 'C3'},\n",
    "                'R20' : {'id' : 'R20', 'reversible' : True, 'reagents' : [(-1, 'K1'), (1, 'K2')], 'SUBSYSTEM' : 'C3'},\n",
    "                'R21' : {'id' : 'R21', 'reversible' : True, 'reagents' : [(-1, 'K2'), (1, 'I2')], 'SUBSYSTEM' : 'C3'},\n",
    "                'R22' : {'id' : 'R22', 'reversible' : False, 'reagents' : [(-1, 'L'), (1, 'M')], 'SUBSYSTEM' : ''},\n",
    "                'R23' : {'id' : 'R23', 'reversible' : True, 'reagents' : [(-1, 'M'), (1, 'N')], 'SUBSYSTEM' : 'C4'},\n",
    "                'R24' : {'id' : 'R24', 'reversible' : False, 'reagents' : [(-1, 'M'), (1, 'N')], 'SUBSYSTEM' : 'C4'},\n",
    "                'R25' : {'id' : 'R25', 'reversible' : False, 'reagents' : [(-1, 'N'), (1, 'X1')], 'SUBSYSTEM' : ''}\n",
    "               }\n",
    "               \n",
    "    Species = { 'X0' : {'id' : 'X0', 'boundary' : True, 'SUBSYSTEM' : ''},\n",
    "                'A' : {'id' : 'A', 'boundary' : False, 'SUBSYSTEM' : 'C1'},\n",
    "                'B' : {'id' : 'B', 'boundary' : False, 'SUBSYSTEM' : 'C1'},\n",
    "                'C' : {'id' : 'C', 'boundary' : False, 'SUBSYSTEM' : 'C1'},\n",
    "                'D' : {'id' : 'D', 'boundary' : False, 'SUBSYSTEM' : 'C2'},\n",
    "                'E1' : {'id' : 'E1', 'boundary' : False, 'SUBSYSTEM' : 'C2'},\n",
    "                'E2' : {'id' : 'E2', 'boundary' : False, 'SUBSYSTEM' : 'C2'},\n",
    "                'F1' : {'id' : 'F1', 'boundary' : False, 'SUBSYSTEM' : 'C2'},\n",
    "                'F2' : {'id' : 'F2', 'boundary' : False, 'SUBSYSTEM' : 'C2'},\n",
    "                'G' : {'id' : 'G', 'boundary' : False, 'SUBSYSTEM' : 'C2'},\n",
    "                'H' : {'id' : 'H', 'boundary' : False, 'SUBSYSTEM' : 'C3'},\n",
    "                'I1' : {'id' : 'I1', 'boundary' : False, 'SUBSYSTEM' : 'C3'},\n",
    "                'I2' : {'id' : 'I2', 'boundary' : False, 'SUBSYSTEM' : 'C3'},\n",
    "                'J1' : {'id' : 'J1', 'boundary' : False, 'SUBSYSTEM' : 'C3'},\n",
    "                'J2' : {'id' : 'J2', 'boundary' : False, 'SUBSYSTEM' : 'C3'},\n",
    "                'K1' : {'id' : 'K1', 'boundary' : False, 'SUBSYSTEM' : 'C3'},\n",
    "                'K2' : {'id' : 'K2', 'boundary' : False, 'SUBSYSTEM' : 'C3'},\n",
    "                'L' : {'id' : 'L', 'boundary' : False, 'SUBSYSTEM' : 'C3'},\n",
    "                'M' : {'id' : 'M', 'boundary' : False, 'SUBSYSTEM' : 'C4'},\n",
    "                'N' : {'id' : 'N', 'boundary' : False, 'SUBSYSTEM' : 'C4'},\n",
    "                'X1' : {'id' : 'X1', 'boundary' : True, 'SUBSYSTEM' : ''}\n",
    "              }\n",
    "              \n",
    "    Bounds = {'R01' : {'lower' : 0, 'upper' : 1}}\n",
    "    \n",
    "    Objective_function = {'objMaxJ25' : {'id' : 'objMaxJ25', 'flux' : 'R25', 'coefficient' : 1, 'sense' : 'Maximize', 'active' : True}}\n",
    "    \n",
    "    return model_name, Reactions, Species, Bounds, Objective_function"
   ]
  },
  {
   "cell_type": "markdown",
   "metadata": {},
   "source": [
    "Let's grab the model."
   ]
  },
  {
   "cell_type": "code",
   "execution_count": 43,
   "metadata": {},
   "outputs": [],
   "source": [
    "pymod = Define_core_model_1()"
   ]
  },
  {
   "cell_type": "markdown",
   "metadata": {},
   "source": [
    "Now we can use CBMPy to instantiate these dictionaries into a CBMPy object. Note how we pass the return of the model definition by reference."
   ]
  },
  {
   "cell_type": "code",
   "execution_count": 44,
   "metadata": {},
   "outputs": [
    {
     "name": "stdout",
     "output_type": "stream",
     "text": [
      "Adding objective: objMaxJ25\n",
      "Reaction R01 already has bounds: {'SUBSYSTEM': '', 'reagents': [(-1, 'X0'), (1, 'A')], 'reversible': False, 'id': 'R01'}\n"
     ]
    }
   ],
   "source": [
    "cmod = cbmpy.CBModelTools.quickDefaultBuild(*pymod)"
   ]
  },
  {
   "cell_type": "markdown",
   "metadata": {},
   "source": [
    "Congratulations, you now have a CBMPy model, let's run an FBA and then save it as an SBML file."
   ]
  },
  {
   "cell_type": "code",
   "execution_count": 45,
   "metadata": {},
   "outputs": [
    {
     "name": "stdout",
     "output_type": "stream",
     "text": [
      "\n",
      "cplx_constructLPfromFBA time: 0.00599980354309\n",
      "\n",
      "\n",
      "cplx_analyzeModel FBA --> LP time: 0.00699996948242\n",
      "\n",
      "CPXPARAM_Read_DataCheck                          1\n",
      "Tried aggregator 1 time.\n",
      "LP Presolve eliminated 2 rows and 8 columns.\n",
      "Aggregator did 17 substitutions.\n",
      "All rows and columns eliminated.\n",
      "Presolve time = 0.00 sec. (0.01 ticks)\n",
      "INFO: Model is optimal: 1\n",
      "Solution status =  1 : optimal\n",
      "Solution method =  2 : dual\n",
      "Objective value =  1.0\n",
      "Model is optimal\n",
      "Status: LPS_OPT\n",
      "Model is optimal\n",
      "Model is optimal\n",
      "\n",
      "analyzeModel objective value: 1.0\n",
      "\n"
     ]
    },
    {
     "data": {
      "text/plain": [
       "1.0"
      ]
     },
     "execution_count": 45,
     "metadata": {},
     "output_type": "execute_result"
    }
   ],
   "source": [
    "cbmpy.doFBA(cmod)"
   ]
  },
  {
   "cell_type": "code",
   "execution_count": 46,
   "metadata": {},
   "outputs": [
    {
     "name": "stdout",
     "output_type": "stream",
     "text": [
      "\n",
      "INFO: using FBC version: 1\n",
      "INFO: Compartment \"Cell\" used by species \"A\" is not defined, creating.\n",
      "INFO: added 0 non fluxbound parameters to model\n",
      "Model exported as: my_core_model.xml\n"
     ]
    }
   ],
   "source": [
    "cbmpy.writeSBML3FBC(cmod, 'my_core_model.xml')"
   ]
  },
  {
   "cell_type": "markdown",
   "metadata": {},
   "source": [
    "In case you were wondering, any compartments needed for SBML are always automagically created by CBMPy on write :-)"
   ]
  },
  {
   "cell_type": "markdown",
   "metadata": {},
   "source": [
    "## Reading models from CSV file"
   ]
  },
  {
   "cell_type": "markdown",
   "metadata": {},
   "source": [
    "CBMPy has functions to read files from CSV files. However, due to the obvious, arbitrary nature of this format it is restricted to files in a very specific format. The module you want to look at is `cbmpy.Readtxt`. CBMPy originally used an old format that did not contain gene associations. See the files `reactions.csv` and `bounds.csv` for an example of the input used in these examples. To give you an idea of the formatting, here are the first few lines of each file."
   ]
  },
  {
   "cell_type": "raw",
   "metadata": {},
   "source": [
    "# reactions.csv (ignore quotation marks)\n",
    "\n",
    "abbreviation;officialName;equation\n",
    "2hxict6;L-2-hydroxyisocaproate transport (H+ symport);2hxic-L[c] + h[c] <==> 2hxic-L[e] + h[e]\n",
    "2MBALDH;2-methylbutanal dehydrogenase (acid forming);[c] : 2mbal + h2o + nad <==> 2mba + (2) h + nadh\n",
    "2MBALt;2-methylbutanal transport;2mbal[c] <==> 2mbal[e]\n",
    "2MBAt6;2-methylbutanoic acid transport (H-symport);2mba[c] + h[c] <==> 2mba[e] + h[e]\n",
    "2MBDH;2-methylbutanol dehydrogenase;[c] : 2mbal + h + nadh <==> 2mbol + nad\n",
    "2MBOLt;2-methylbutanol transport;2mbol[c] <==> 2mbol[e]\n",
    "2MPALDH;2-methylpropanal dehydrogenase (acid forming);[c] : 2mpal + h2o + nad <==> 2mpa + (2) h + nadh\n",
    "\n",
    "# bounds.csv (ignore quotation marks)\n",
    "\n",
    "Reaction ID;lower boundary;upper boundary\n",
    "ATPM;0;100\n",
    "EX_4abz(e);-100;100\n",
    "EX_ac(e);0;100\n",
    "EX_actn-R(e);0;0\n",
    "EX_ade(e);-100;0\n",
    "EX_ala-L(e);-100;0\n",
    "EX_arg-L(e);-100;0\n",
    "EX_asn-L(e);-100;0\n",
    "EX_asp-L(e);-100;0\n",
    "EX_btd-RR(e);0;0\n"
   ]
  },
  {
   "cell_type": "markdown",
   "metadata": {},
   "source": [
    "Here is an example of how to load files from CSV files."
   ]
  },
  {
   "cell_type": "code",
   "execution_count": 47,
   "metadata": {},
   "outputs": [
    {
     "data": {
      "text/plain": [
       "\"\\ncbmpy.CBReadtxt.SYMB_SPLIT = ';'\\n\\nBounds = cbmpy.CBReadtxt.getBounds('bounds.csv', has_header=True)\\nReactions = cbmpy.CBReadtxt.getReactions_old_format('reactions.csv', has_header=True, save_rpt=True, ignore_duplicates=True)\\nReactions = cbmpy.CBReadtxt.parseReactions(Reactions)\\ncbmpy.CBReadtxt.addBoundsToReactions(Reactions, Bounds, default=999999.0)\\ncbmpy.CBReadtxt.dumpReactionsToTxt(Reactions, 'list_reactions.txt')\\nSpecies = cbmpy.CBReadtxt.getSpecies(Reactions)\\ncbmpy.CBReadtxt.dumpSpeciesToTxt(Species, 'list_species.txt')\\ncmod = cbmpy.CBReadtxt.buildFBAobj(Reactions, Species, 'R_biomass', 'spy2012')\\n\""
      ]
     },
     "execution_count": 47,
     "metadata": {},
     "output_type": "execute_result"
    }
   ],
   "source": [
    "\"\"\"\n",
    "cbmpy.CBReadtxt.SYMB_SPLIT = ';'\n",
    "\n",
    "Bounds = cbmpy.CBReadtxt.getBounds('bounds.csv', has_header=True)\n",
    "Reactions = cbmpy.CBReadtxt.getReactions_old_format('reactions.csv', has_header=True, save_rpt=True, ignore_duplicates=True)\n",
    "Reactions = cbmpy.CBReadtxt.parseReactions(Reactions)\n",
    "cbmpy.CBReadtxt.addBoundsToReactions(Reactions, Bounds, default=999999.0)\n",
    "cbmpy.CBReadtxt.dumpReactionsToTxt(Reactions, 'list_reactions.txt')\n",
    "Species = cbmpy.CBReadtxt.getSpecies(Reactions)\n",
    "cbmpy.CBReadtxt.dumpSpeciesToTxt(Species, 'list_species.txt')\n",
    "cmod = cbmpy.CBReadtxt.buildFBAobj(Reactions, Species, 'R_biomass', 'spy2012')\n",
    "\"\"\"\n",
    "#cbmpy.doFBA(cmod)\n",
    "#cbmpy.CBWrite.writeSBML3FBC(cmod,'csv_conversion.xml')"
   ]
  },
  {
   "cell_type": "markdown",
   "metadata": {},
   "source": [
    "The new format rearranges the columns slightly and adds gene association data ... TO BE CONTINUED!"
   ]
  },
  {
   "cell_type": "code",
   "execution_count": 48,
   "metadata": {},
   "outputs": [
    {
     "name": "stdout",
     "output_type": "stream",
     "text": [
      "Help on function readCSV in module cbmpy.CBReadtxt:\n",
      "\n",
      "readCSV(model_file, bounds_file=None, biomass_flux=None, model_id='FBAModel', reaction_prefix='R_', has_header=False)\n",
      "    This function loads a CSV file and translates it into a Python object::\n",
      "    \n",
      "     - *model_file* the name of the CSV file that contains the model\n",
      "     - *bounds_file* the name of the CSV file that contains the flux bounds\n",
      "     - *biomass_flux* the name of the reaction that is the objective function\n",
      "     - *reaction_prefix* [default='R _'] the prefix to add to input reaction ID's\n",
      "     - *has_header* [default=False] if there is a header row in the csv file\n",
      "\n"
     ]
    }
   ],
   "source": [
    "help(cbmpy.CBReadtxt.readCSV)"
   ]
  },
  {
   "cell_type": "code",
   "execution_count": null,
   "metadata": {},
   "outputs": [],
   "source": []
  }
 ],
 "metadata": {
  "kernelspec": {
   "display_name": "Python 2",
   "language": "python",
   "name": "python2"
  },
  "language_info": {
   "codemirror_mode": {
    "name": "ipython",
    "version": 2
   },
   "file_extension": ".py",
   "mimetype": "text/x-python",
   "name": "python",
   "nbconvert_exporter": "python",
   "pygments_lexer": "ipython2",
   "version": "2.7.14"
  }
 },
 "nbformat": 4,
 "nbformat_minor": 1
}
