{
 "cells": [
  {
   "cell_type": "markdown",
   "metadata": {},
   "source": [
    "# CBMPy Tutorial S01 working with SBML Groups"
   ]
  },
  {
   "cell_type": "markdown",
   "metadata": {
    "collapsed": true
   },
   "source": [
    "In this section I demonstrate the use of the SBML Level 3 Groups package with CBMPy. Note that, currently, for Groups support the `libsbml-experimental` bindings are required. For more information please see the CBMPy reference guide (available from http://cbmpy.sourceforge.net).\n",
    "\n",
    "Additional files needed for this tutorial: None.\n",
    "\n",
    "As always we start by importing CBMPy"
   ]
  },
  {
   "cell_type": "code",
   "execution_count": 1,
   "metadata": {},
   "outputs": [
    {
     "name": "stdout",
     "output_type": "stream",
     "text": [
      "\n",
      "*****\n",
      "Using CPLEX\n",
      "*****\n",
      "\n"
     ]
    },
    {
     "name": "stderr",
     "output_type": "stream",
     "text": [
      "C:\\Anaconda\\lib\\site-packages\\h5py\\__init__.py:36: FutureWarning: Conversion of the second argument of issubdtype from `float` to `np.floating` is deprecated. In future, it will be treated as `np.float64 == np.dtype(float).type`.\n",
      "  from ._conv import register_converters as _register_converters\n"
     ]
    },
    {
     "name": "stdout",
     "output_type": "stream",
     "text": [
      "\n",
      "CBMPy environment\n",
      "******************\n",
      "Revision: r637\n",
      "\n",
      "\n",
      "***********************************************************************\n",
      "* Welcome to CBMPy (0.7.20) - PySCeS Constraint Based Modelling       *\n",
      "*                http://cbmpy.sourceforge.net                         *\n",
      "* Copyright(C) Brett G. Olivier 2014 - 2017                           *\n",
      "* Dept. of Systems Bioinformatics                                     *\n",
      "* Vrije Universiteit Amsterdam, Amsterdam, The Netherlands            *\n",
      "* CBMPy is developed as part of the BeBasic MetaToolKit Project       *\n",
      "* Distributed under the GNU GPL v 3.0 licence, see                    *\n",
      "* LICENCE (supplied with this release) for details                    *\n",
      "***********************************************************************\n",
      "\n"
     ]
    }
   ],
   "source": [
    "import cbmpy"
   ]
  },
  {
   "cell_type": "markdown",
   "metadata": {},
   "source": [
    "To begin let's load one of the small built-in models supplied with CBMPy: `cbmpy_test_core` and assign it to the variable `cmod`."
   ]
  },
  {
   "cell_type": "code",
   "execution_count": 2,
   "metadata": {},
   "outputs": [
    {
     "name": "stdout",
     "output_type": "stream",
     "text": [
      "core_memesa_model.l3.xml\n",
      "FBC version: 1\n",
      "M.getNumReactions: 26\n",
      "M.getNumSpecies: 22\n",
      "FBC.getNumObjectives: 1\n",
      "FBC.getNumGeneAssociations: 0\n",
      "FBC.getNumFluxBounds: 52\n",
      "Zero dimension compartment detected: Cell\n",
      "INFO: Active objective: objMaxJ25\n",
      "Adding objective: objMaxJ25\n",
      "\n",
      "SBML3 load time: 0.021\n",
      "\n",
      "INFO: no standard gene encoding detected, attempting to load from annotations.\n",
      "INFO: used key(s) '[]'\n",
      "INFO: Added 0 new genes and 0 associations to model\n"
     ]
    }
   ],
   "source": [
    "cmod = cbmpy.readSBML3FBC('cbmpy_test_core')"
   ]
  },
  {
   "cell_type": "markdown",
   "metadata": {
    "collapsed": true
   },
   "source": [
    "Let's take a closer look at this model."
   ]
  },
  {
   "cell_type": "code",
   "execution_count": 3,
   "metadata": {},
   "outputs": [
    {
     "name": "stdout",
     "output_type": "stream",
     "text": [
      "['R01', 'R10', 'R03', 'R02', 'R05', 'R04', 'R16', 'R17', 'R14', 'R15', 'R12', 'R13', 'R07', 'R06', 'R09', 'R08', 'R11', 'R18', 'R19', 'R26', 'R25', 'R24', 'R23', 'R22', 'R21', 'R20']\n"
     ]
    }
   ],
   "source": [
    "print(cmod.getReactionIds())"
   ]
  },
  {
   "cell_type": "code",
   "execution_count": 4,
   "metadata": {},
   "outputs": [
    {
     "name": "stdout",
     "output_type": "stream",
     "text": [
      "['A', 'B', 'C', 'D', 'F1', 'F2', 'G', 'H', 'I1', 'I2', 'J1', 'J2', 'K1', 'K2', 'L', 'M', 'N', 'X0', 'X1', 'X3', 'mE1', 'mE2']\n"
     ]
    }
   ],
   "source": [
    "print(cmod.getSpeciesIds())"
   ]
  },
  {
   "cell_type": "markdown",
   "metadata": {},
   "source": [
    "Let's also look at the reaction annotation (this was stuff classically, and confusingly, stored in the SBML \"notes\" element)"
   ]
  },
  {
   "cell_type": "code",
   "execution_count": 5,
   "metadata": {},
   "outputs": [
    {
     "name": "stdout",
     "output_type": "stream",
     "text": [
      "[{'abbreviation': 'R01', 'subsystem': None}, {'abbreviation': 'R10', 'subsystem': 'C2'}, {'abbreviation': 'R03', 'subsystem': 'C1'}, {'abbreviation': 'R02', 'subsystem': 'C1'}, {'abbreviation': 'R05', 'subsystem': None}, {'abbreviation': 'R04', 'subsystem': 'C1'}, {'abbreviation': 'R16', 'subsystem': 'C3'}, {'abbreviation': 'R17', 'subsystem': 'C3'}, {'abbreviation': 'R14', 'subsystem': 'C3'}, {'abbreviation': 'R15', 'subsystem': 'C3'}, {'abbreviation': 'R12', 'subsystem': None}, {'abbreviation': 'R13', 'subsystem': 'C3'}, {'abbreviation': 'R07', 'subsystem': 'C2'}, {'abbreviation': 'R06', 'subsystem': 'C2'}, {'abbreviation': 'R09', 'subsystem': 'C2'}, {'abbreviation': 'R08', 'subsystem': 'C2'}, {'abbreviation': 'R11', 'subsystem': 'C2'}, {'abbreviation': 'R18', 'subsystem': 'C3'}, {'abbreviation': 'R19', 'subsystem': 'C3'}, {'abbreviation': 'R26', 'subsystem': None}, {'abbreviation': 'R25', 'subsystem': None}, {'abbreviation': 'R24', 'subsystem': 'C4'}, {'abbreviation': 'R23', 'subsystem': 'C4'}, {'abbreviation': 'R22', 'subsystem': None}, {'abbreviation': 'R21', 'subsystem': 'C3'}, {'abbreviation': 'R20', 'subsystem': 'C3'}]\n"
     ]
    }
   ],
   "source": [
    "print([r.getAnnotations() for r in cmod.reactions])"
   ]
  },
  {
   "cell_type": "markdown",
   "metadata": {},
   "source": [
    "Note how some reactions have a `subsystem` annotation defined, let's take a look at them and extract the subsystem id's."
   ]
  },
  {
   "cell_type": "code",
   "execution_count": 6,
   "metadata": {},
   "outputs": [
    {
     "name": "stdout",
     "output_type": "stream",
     "text": [
      "('R01', None)\n",
      "('R10', 'C2')\n",
      "('R03', 'C1')\n",
      "('R02', 'C1')\n",
      "('R05', None)\n",
      "('R04', 'C1')\n",
      "('R16', 'C3')\n",
      "('R17', 'C3')\n",
      "('R14', 'C3')\n",
      "('R15', 'C3')\n",
      "('R12', None)\n",
      "('R13', 'C3')\n",
      "('R07', 'C2')\n",
      "('R06', 'C2')\n",
      "('R09', 'C2')\n",
      "('R08', 'C2')\n",
      "('R11', 'C2')\n",
      "('R18', 'C3')\n",
      "('R19', 'C3')\n",
      "('R26', None)\n",
      "('R25', None)\n",
      "('R24', 'C4')\n",
      "('R23', 'C4')\n",
      "('R22', None)\n",
      "('R21', 'C3')\n",
      "('R20', 'C3')\n",
      "('subsystems', ['C1', 'C2', 'C3', 'C4'])\n"
     ]
    }
   ],
   "source": [
    "subsystems = []\n",
    "for R in cmod.reactions:\n",
    "    print(R.getId(), R.getAnnotation('subsystem'))\n",
    "    if R.getAnnotation('subsystem') != None and R.getAnnotation('subsystem') not in subsystems:\n",
    "        subsystems.append(R.getAnnotation('subsystem'))\n",
    "subsystems.sort()\n",
    "print('subsystems', subsystems)"
   ]
  },
  {
   "cell_type": "markdown",
   "metadata": {},
   "source": [
    "We would like to convert these subsystems into and SBML Group. In its most basic form a Group is a, possibly, arbitrary collection of objects which can be collectively treated as a single object for annotation purposes, thus Groups do not effect the evaluation of a model but rather the human interpretation of its elements. Further properties of Groups will be shown below.\n",
    "\n",
    "Let's begin by simply creating four groups."
   ]
  },
  {
   "cell_type": "code",
   "execution_count": 7,
   "metadata": {},
   "outputs": [
    {
     "name": "stdout",
     "output_type": "stream",
     "text": [
      "('GroupIds', ['C1', 'C2', 'C3', 'C4'])\n"
     ]
    }
   ],
   "source": [
    "for s in subsystems:\n",
    "    cmod.createGroup(s)\n",
    "\n",
    "print('GroupIds', cmod.getGroupIds())"
   ]
  },
  {
   "cell_type": "markdown",
   "metadata": {},
   "source": [
    "Now that we have our groups we can add reaction objects. Note that in CBMPy the object itself is added to the Group. We begin by adding R23 and R24 to C4 manually."
   ]
  },
  {
   "cell_type": "code",
   "execution_count": 8,
   "metadata": {},
   "outputs": [],
   "source": [
    "C4 = cmod.getGroup('C4')"
   ]
  },
  {
   "cell_type": "code",
   "execution_count": 9,
   "metadata": {},
   "outputs": [
    {
     "name": "stdout",
     "output_type": "stream",
     "text": [
      "('C4 member ids', ['R23', 'R24'])\n"
     ]
    }
   ],
   "source": [
    "C4.addMember(cmod.getReaction('R23'))\n",
    "C4.addMember(cmod.getReaction('R24'))\n",
    "print('C4 member ids', C4.getMemberIDs())"
   ]
  },
  {
   "cell_type": "markdown",
   "metadata": {},
   "source": [
    "Of course this can easily be scripted so we will delete the C4 members and do everything at once."
   ]
  },
  {
   "cell_type": "code",
   "execution_count": 10,
   "metadata": {},
   "outputs": [
    {
     "name": "stdout",
     "output_type": "stream",
     "text": [
      "('C4 member ids', [])\n"
     ]
    }
   ],
   "source": [
    "C4.deleteMember('R23')\n",
    "C4.deleteMember('R24')\n",
    "print('C4 member ids', C4.getMemberIDs())"
   ]
  },
  {
   "cell_type": "code",
   "execution_count": 11,
   "metadata": {},
   "outputs": [
    {
     "name": "stdout",
     "output_type": "stream",
     "text": [
      "('R10', 'C2')\n",
      "('R03', 'C1')\n",
      "('R02', 'C1')\n",
      "('R04', 'C1')\n",
      "('R16', 'C3')\n",
      "('R17', 'C3')\n",
      "('R14', 'C3')\n",
      "('R15', 'C3')\n",
      "('R13', 'C3')\n",
      "('R07', 'C2')\n",
      "('R06', 'C2')\n",
      "('R09', 'C2')\n",
      "('R08', 'C2')\n",
      "('R11', 'C2')\n",
      "('R18', 'C3')\n",
      "('R19', 'C3')\n",
      "('R24', 'C4')\n",
      "('R23', 'C4')\n",
      "('R21', 'C3')\n",
      "('R20', 'C3')\n"
     ]
    }
   ],
   "source": [
    "for R in cmod.reactions:\n",
    "    if R.getAnnotation('subsystem') != None:\n",
    "        print(R.getId(), R.getAnnotation('subsystem'))\n",
    "        cmod.getGroup(R.getAnnotation('subsystem')).addMember(R)\n",
    "        R.deleteAnnotation('subsystem')\n",
    "        "
   ]
  },
  {
   "cell_type": "code",
   "execution_count": 12,
   "metadata": {},
   "outputs": [
    {
     "name": "stdout",
     "output_type": "stream",
     "text": [
      "('C1', ['R03', 'R02', 'R04'])\n",
      "('C2', ['R10', 'R07', 'R06', 'R09', 'R08', 'R11'])\n",
      "('C3', ['R16', 'R17', 'R14', 'R15', 'R13', 'R18', 'R19', 'R21', 'R20'])\n",
      "('C4', ['R24', 'R23'])\n"
     ]
    }
   ],
   "source": [
    "for G in cmod.groups:\n",
    "    print(G.getId(), G.getMemberIDs())"
   ]
  },
  {
   "cell_type": "markdown",
   "metadata": {},
   "source": [
    "Excellent. We now have have groups of reactions but how can we label them as being a subsystem, there are various ways, we could use the Group `name` or `notes` field, CBMPy annotation or even use the (systems biology ontology) SBO or GO term to describe the pathway. Let's try a combination of these."
   ]
  },
  {
   "cell_type": "code",
   "execution_count": 13,
   "metadata": {},
   "outputs": [],
   "source": [
    "for G in cmod.groups:\n",
    "    G.setName(G.getId()) # sets the group name to its initial ID\n",
    "    G.setNotes('subsystem')\n",
    "    G.setAnnotation('subsystem', True)\n",
    "    G.setSBOterm('SBO:0000000') # as an example, this is not a meaningful SBO term\n"
   ]
  },
  {
   "cell_type": "markdown",
   "metadata": {},
   "source": [
    "What we have been doing here is labelling the group itself, not the individual members of the group (no inheritance). If we would actually like the members of the group to be labelled/annotated using the Group as a superclass then we need to set the member annotation directly. Again using the C4 Group we can either set the `shared` properties directly:"
   ]
  },
  {
   "cell_type": "code",
   "execution_count": 14,
   "metadata": {},
   "outputs": [
    {
     "name": "stdout",
     "output_type": "stream",
     "text": [
      "['R24', 'R23']\n"
     ]
    }
   ],
   "source": [
    "print(C4.getMemberIDs())\n",
    "C4.setSharedNotes('subsystem')"
   ]
  },
  {
   "cell_type": "code",
   "execution_count": 15,
   "metadata": {},
   "outputs": [
    {
     "name": "stdout",
     "output_type": "stream",
     "text": [
      "('C4 shared', u'subsystem')\n",
      "('R23 notes', u'\\n  <body xmlns:html=\"http://www.w3.org/1999/xhtml\">\\n    <html:p>Abbreviation: R23</html:p>\\n    <html:p>SUBSYSTEM: C4</html:p>\\n  </body>\\n')\n",
      "('R24 notes', u'\\n  <body xmlns:html=\"http://www.w3.org/1999/xhtml\">\\n    <html:p>Abbreviation: R24</html:p>\\n    <html:p>SUBSYSTEM: C4</html:p>\\n  </body>\\n')\n"
     ]
    }
   ],
   "source": [
    "print('C4 shared', C4.getSharedNotes())\n",
    "print('R23 notes', cmod.getReaction('R23').getNotes())\n",
    "print('R24 notes', cmod.getReaction('R24').getNotes())"
   ]
  },
  {
   "cell_type": "markdown",
   "metadata": {},
   "source": [
    "Currently the new `notes` annotation is an annotation to the group's list of members. This is the normal Groups behaviour, in addition, CBMPy provides functionality that allows one to push the annotation to the group's member objects. In this case not overwriting any existing `notes` (if they exist), only adding them to members where the attribute is undefined (set with the flag `overwrite=False`)."
   ]
  },
  {
   "cell_type": "code",
   "execution_count": 16,
   "metadata": {},
   "outputs": [
    {
     "name": "stdout",
     "output_type": "stream",
     "text": [
      "INFO: Assigning shared Notes to members, this cannot be undone.\n",
      "('C4 shared', u'subsystem')\n",
      "('R23 notes', u'\\n  <body xmlns:html=\"http://www.w3.org/1999/xhtml\">\\n    <html:p>Abbreviation: R23</html:p>\\n    <html:p>SUBSYSTEM: C4</html:p>\\n  </body>\\n')\n",
      "('R24 notes', u'\\n  <body xmlns:html=\"http://www.w3.org/1999/xhtml\">\\n    <html:p>Abbreviation: R24</html:p>\\n    <html:p>SUBSYSTEM: C4</html:p>\\n  </body>\\n')\n"
     ]
    }
   ],
   "source": [
    "C4.assignSharedNotesToMembers(overwrite=False)\n",
    "print('C4 shared', C4.getSharedNotes())\n",
    "print('R23 notes', cmod.getReaction('R23').getNotes())\n",
    "print('R24 notes', cmod.getReaction('R24').getNotes())"
   ]
  },
  {
   "cell_type": "markdown",
   "metadata": {},
   "source": [
    "Similarly annotations, MIRIAM annotations and SBO terms can be pushed to members, see the group *assignX* methods for more details. Now we can try add an SBO term to the C1 group *without* pushing it to the members."
   ]
  },
  {
   "cell_type": "code",
   "execution_count": 17,
   "metadata": {},
   "outputs": [],
   "source": [
    "cmod.getGroup('C1').setSharedSBOterm('SBO:0000000') # SBO:0000000 is an example only"
   ]
  },
  {
   "cell_type": "markdown",
   "metadata": {},
   "source": [
    "Groups can be defined as either a \"collection\", \"classification\" or \"partonomy\" by default groups are classified as an (arbitrary) collection:"
   ]
  },
  {
   "cell_type": "code",
   "execution_count": 18,
   "metadata": {},
   "outputs": [
    {
     "name": "stdout",
     "output_type": "stream",
     "text": [
      "('C1 kind:', 'collection')\n",
      "('C2 kind:', 'partonomy')\n",
      "('C3 kind:', 'classification')\n"
     ]
    }
   ],
   "source": [
    "cmod.getGroup('C2').setKind('partonomy')\n",
    "cmod.getGroup('C3').setKind('classification')\n",
    "\n",
    "print('C1 kind:', cmod.getGroup('C1').getKind())\n",
    "print('C2 kind:', cmod.getGroup('C2').getKind())\n",
    "print('C3 kind:', cmod.getGroup('C3').getKind())"
   ]
  },
  {
   "cell_type": "markdown",
   "metadata": {},
   "source": [
    "Finally, we write the file to an SBML Level 3 FBC version 1 file."
   ]
  },
  {
   "cell_type": "code",
   "execution_count": 19,
   "metadata": {},
   "outputs": [
    {
     "name": "stdout",
     "output_type": "stream",
     "text": [
      "\n",
      "INFO: using FBC version: 1\n",
      "INFO: added 0 non fluxbound parameters to model\n",
      "Model exported as: groups_example.xml\n"
     ]
    }
   ],
   "source": [
    "cbmpy.writeSBML3FBC(cmod, 'groups_example.xml', add_groups=True)"
   ]
  },
  {
   "cell_type": "markdown",
   "metadata": {
    "collapsed": true
   },
   "source": [
    "This basic introduction of the CBMPy Groups functionality should allow you to create custom groups of objects (including Groups). Additional group functionality is conntinuously being implemented, please see the reference guide and the Group object docstrings and methods for more details. For a final test let's load our saved file that includes the groups data."
   ]
  },
  {
   "cell_type": "code",
   "execution_count": 20,
   "metadata": {},
   "outputs": [
    {
     "name": "stdout",
     "output_type": "stream",
     "text": [
      "FBC version: 1\n",
      "M.getNumReactions: 26\n",
      "M.getNumSpecies: 22\n",
      "FBC.getNumObjectives: 1\n",
      "FBC.getNumGeneAssociations: 0\n",
      "FBC.getNumFluxBounds: 52\n",
      "INFO: Active objective: objMaxJ25\n",
      "Adding objective: objMaxJ25\n",
      "Groups support: <GroupsModelPlugin>\n",
      "Group.getNumGroups: 4\n",
      "\n",
      "SBML3 load time: 0.021\n",
      "\n",
      "INFO: no standard gene encoding detected, attempting to load from annotations.\n",
      "INFO: used key(s) '[]'\n",
      "INFO: Added 0 new genes and 0 associations to model\n"
     ]
    }
   ],
   "source": [
    "dmod = cbmpy.readSBML3FBC('groups_example.xml')"
   ]
  },
  {
   "cell_type": "code",
   "execution_count": 21,
   "metadata": {},
   "outputs": [
    {
     "name": "stdout",
     "output_type": "stream",
     "text": [
      "('Group IDs', ['C1', 'C2', 'C3', 'C4'])\n"
     ]
    }
   ],
   "source": [
    "print('Group IDs', dmod.getGroupIds())"
   ]
  },
  {
   "cell_type": "code",
   "execution_count": null,
   "metadata": {},
   "outputs": [],
   "source": []
  }
 ],
 "metadata": {
  "kernelspec": {
   "display_name": "Python 2",
   "language": "python",
   "name": "python2"
  },
  "language_info": {
   "codemirror_mode": {
    "name": "ipython",
    "version": 2
   },
   "file_extension": ".py",
   "mimetype": "text/x-python",
   "name": "python",
   "nbconvert_exporter": "python",
   "pygments_lexer": "ipython2",
   "version": "2.7.14"
  }
 },
 "nbformat": 4,
 "nbformat_minor": 1
}
