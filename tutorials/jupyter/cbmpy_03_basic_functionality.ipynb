{
 "cells": [
  {
   "cell_type": "markdown",
   "metadata": {},
   "source": [
    "# CBMPy Tutorial 03 CBMPy basics"
   ]
  },
  {
   "cell_type": "markdown",
   "metadata": {},
   "source": [
    "Here I cover the basics functionality available in the CBMPy module. We have already encountered some of these int Tutorial 2. For more information please see the CBMPy reference guide (available from http://cbmpy.sourceforge.net).\n",
    "\n",
    "Additional files needed for this tutorial: None\n",
    "\n",
    "As always we start by importing CBMPy"
   ]
  },
  {
   "cell_type": "code",
   "execution_count": 1,
   "metadata": {},
   "outputs": [
    {
     "name": "stdout",
     "output_type": "stream",
     "text": [
      "\n",
      "*****\n",
      "Using CPLEX\n",
      "*****\n",
      "\n"
     ]
    },
    {
     "name": "stderr",
     "output_type": "stream",
     "text": [
      "C:\\Anaconda\\lib\\site-packages\\h5py\\__init__.py:36: FutureWarning: Conversion of the second argument of issubdtype from `float` to `np.floating` is deprecated. In future, it will be treated as `np.float64 == np.dtype(float).type`.\n",
      "  from ._conv import register_converters as _register_converters\n"
     ]
    },
    {
     "name": "stdout",
     "output_type": "stream",
     "text": [
      "\n",
      "CBMPy environment\n",
      "******************\n",
      "Revision: r637\n",
      "\n",
      "\n",
      "***********************************************************************\n",
      "* Welcome to CBMPy (0.7.20) - PySCeS Constraint Based Modelling       *\n",
      "*                http://cbmpy.sourceforge.net                         *\n",
      "* Copyright(C) Brett G. Olivier 2014 - 2017                           *\n",
      "* Dept. of Systems Bioinformatics                                     *\n",
      "* Vrije Universiteit Amsterdam, Amsterdam, The Netherlands            *\n",
      "* CBMPy is developed as part of the BeBasic MetaToolKit Project       *\n",
      "* Distributed under the GNU GPL v 3.0 licence, see                    *\n",
      "* LICENCE (supplied with this release) for details                    *\n",
      "***********************************************************************\n",
      "\n"
     ]
    }
   ],
   "source": [
    "import cbmpy"
   ]
  },
  {
   "cell_type": "markdown",
   "metadata": {},
   "source": [
    "## CBMPy modules"
   ]
  },
  {
   "cell_type": "markdown",
   "metadata": {},
   "source": [
    "CBMPy is designed using a flexible/modular architecture. Most of the functionality exists modules, while some of the more commonly used functions have been made available at the module level i.e. `cbmpy.*` In Jupityr and IPython it is possible to view all the functions/properties availalable in a module by typing `cbmpy.<tab>`. Here is a list of the modules, (they generaly start with CB) that are available for use:"
   ]
  },
  {
   "cell_type": "markdown",
   "metadata": {},
   "source": [
    "```\n",
    "cbmpy.CBCPLEX          cbmpy.CBPlot          \n",
    "cbmpy.CBCommon         cbmpy.CBQt4          \n",
    "cbmpy.CBConfig         cbmpy.CBRead          \n",
    "cbmpy.CBDataStruct     cbmpy.CBReadtxt\n",
    "cbmpy.CBGUI            cbmpy.CBSolver\n",
    "cbmpy.CBModel          cbmpy.CBTools\n",
    "cbmpy.CBModelTools     cbmpy.CBVersion\n",
    "cbmpy.CBMultiCore      cbmpy.CBWrite\n",
    "cbmpy.CBMultiEnv       cbmpy.CBWx\n",
    "cbmpy.CBNetDB          cbmpy.CBXML\n",
    "```"
   ]
  },
  {
   "cell_type": "markdown",
   "metadata": {},
   "source": [
    "Similarly the functions in each module can also be displayed: `cbmpy.CBmodule.<tab>`"
   ]
  },
  {
   "cell_type": "markdown",
   "metadata": {},
   "source": [
    "## Constants and utility functions"
   ]
  },
  {
   "cell_type": "markdown",
   "metadata": {},
   "source": [
    "For your convenience CBMPy also defines a number of often used constants."
   ]
  },
  {
   "cell_type": "code",
   "execution_count": 2,
   "metadata": {},
   "outputs": [
    {
     "data": {
      "text/plain": [
       "nan"
      ]
     },
     "execution_count": 2,
     "metadata": {},
     "output_type": "execute_result"
    }
   ],
   "source": [
    "# infinity\n",
    "cbmpy.INF\n",
    "# negative infinity\n",
    "cbmpy.NINF\n",
    "# IEEE not a number\n",
    "cbmpy.NAN"
   ]
  },
  {
   "cell_type": "markdown",
   "metadata": {},
   "source": [
    "as well as utility functions and program information:"
   ]
  },
  {
   "cell_type": "code",
   "execution_count": 3,
   "metadata": {},
   "outputs": [
    {
     "data": {
      "text/plain": [
       "'0.7.20.637'"
      ]
     },
     "execution_count": 3,
     "metadata": {},
     "output_type": "execute_result"
    }
   ],
   "source": [
    "# CBMPy SVN revision number and version\n",
    "cbmpy.rev\n",
    "cbmpy.__version__\n",
    "# run all nose nose based unittests - note does not work in Jupyter environment\n",
    "#cbmpy.test()"
   ]
  },
  {
   "cell_type": "markdown",
   "metadata": {},
   "source": [
    "## Common model analysis functions"
   ]
  },
  {
   "cell_type": "markdown",
   "metadata": {},
   "source": [
    "For ease of use shortcuts to some basic FBA functions are provided, First the model object is instantiated as `cmod`:"
   ]
  },
  {
   "cell_type": "code",
   "execution_count": 4,
   "metadata": {},
   "outputs": [
    {
     "name": "stdout",
     "output_type": "stream",
     "text": [
      "core_memesa_model.l3.xml\n",
      "FBC version: 1\n",
      "M.getNumReactions: 26\n",
      "M.getNumSpecies: 22\n",
      "FBC.getNumObjectives: 1\n",
      "FBC.getNumGeneAssociations: 0\n",
      "FBC.getNumFluxBounds: 52\n",
      "Zero dimension compartment detected: Cell\n",
      "INFO: Active objective: objMaxJ25\n",
      "Adding objective: objMaxJ25\n",
      "\n",
      "SBML3 load time: 0.022\n",
      "\n",
      "INFO: no standard gene encoding detected, attempting to load from annotations.\n",
      "INFO: used key(s) '[]'\n",
      "INFO: Added 0 new genes and 0 associations to model\n"
     ]
    }
   ],
   "source": [
    "# load a test model\n",
    "cmod = cbmpy.readSBML3FBC('cbmpy_test_core')"
   ]
  },
  {
   "cell_type": "markdown",
   "metadata": {},
   "source": [
    "Now we optimize the model (run the FBA):"
   ]
  },
  {
   "cell_type": "code",
   "execution_count": 5,
   "metadata": {},
   "outputs": [
    {
     "name": "stdout",
     "output_type": "stream",
     "text": [
      "\n",
      "cplx_constructLPfromFBA time: 0.00699996948242\n",
      "\n",
      "\n",
      "cplx_analyzeModel FBA --> LP time: 0.00800013542175\n",
      "\n",
      "CPXPARAM_Read_DataCheck                          1\n",
      "Tried aggregator 1 time.\n",
      "LP Presolve eliminated 0 rows and 4 columns.\n",
      "Aggregator did 11 substitutions.\n",
      "Reduced LP has 8 rows, 11 columns, and 20 nonzeros.\n",
      "Presolve time = 0.00 sec. (0.02 ticks)\n",
      "Initializing dual steep norms . . .\n",
      "\n",
      "Iteration log . . .\n",
      "Iteration:     1   Dual objective     =          1000.000000\n",
      "INFO: Model is optimal: 1\n",
      "Solution status =  1 : optimal\n",
      "Solution method =  2 : dual\n",
      "Objective value =  1.0\n",
      "Model is optimal\n",
      "Status: LPS_OPT\n",
      "Model is optimal\n",
      "Model is optimal\n",
      "\n",
      "analyzeModel objective value: 1.0\n",
      "\n",
      "The optimum value of the objective function is: 1.0\n"
     ]
    }
   ],
   "source": [
    "# Optimize the model\n",
    "sol = cbmpy.doFBA(cmod)\n",
    "\n",
    "# print the result\n",
    "print('The optimum value of the objective function is: {}'.format(sol))"
   ]
  },
  {
   "cell_type": "markdown",
   "metadata": {},
   "source": [
    "Note how the function returns the value of the objective function. In the Tutorial 4 we will see an alternative ways to get this value. Note there are various arguments that can be used with the doFBA function, see the docstring for more details:"
   ]
  },
  {
   "cell_type": "code",
   "execution_count": 6,
   "metadata": {},
   "outputs": [
    {
     "name": "stdout",
     "output_type": "stream",
     "text": [
      "Help on function cplx_analyzeModel in module cbmpy.CBCPLEX:\n",
      "\n",
      "cplx_analyzeModel(f, lpFname=None, return_lp_obj=False, with_reduced_costs='unscaled', with_sensitivity=False, del_intermediate=False, build_n=True, quiet=False, oldlpgen=False, method='o')\n",
      "    Optimize a model and add the result of the optimization to the model object\n",
      "    (e.g. `reaction.value`, `objectiveFunction.value`). The stoichiometric\n",
      "    matrix is automatically generated. This is a common function available\n",
      "    in all solver interfaces. By default returns the objective function value\n",
      "    \n",
      "     - *f* an instantiated PySCeSCBM model object\n",
      "     - *lpFname* [default=None] the name of the intermediate LP file. If not specified no LP file is produced\n",
      "     - *return_lp_obj* [default=False] off by default when enabled it returns the CPLEX LP object\n",
      "     - *with_reduced_costs* [default='unscaled'] calculate and add reduced cost information to mode this can be: 'unscaled' or 'scaled'\n",
      "       or anything else which is interpreted as 'None'. Scaled means s_rcost = (r.reduced_cost*rval)/obj_value\n",
      "     - *with_sensitivity* [default=False] add solution sensitivity information (not yet implemented)\n",
      "     - *del_intermediate* [default=False] redundant except if output file is produced and deleted (not useful)\n",
      "     - *build_n* [default=True] generate stoichiometry from the reaction network (reactions/reagents/species)\n",
      "     - *quiet* [default=False] suppress cplex output\n",
      "     - *method* [default='o'] choose the CPLEX method to use for solution, default is automatic. See CPLEX reference manual for details\n",
      "    \n",
      "       - 'o': auto\n",
      "       - 'p': primal\n",
      "       - 'd': dual\n",
      "       - 'b': barrier (no crossover)\n",
      "       - 'h': barrier\n",
      "       - 's': sifting\n",
      "       - 'c': concurrent\n",
      "\n"
     ]
    }
   ],
   "source": [
    "help(cbmpy.doFBA)"
   ]
  },
  {
   "cell_type": "code",
   "execution_count": null,
   "metadata": {},
   "outputs": [],
   "source": []
  }
 ],
 "metadata": {
  "kernelspec": {
   "display_name": "Python 2",
   "language": "python",
   "name": "python2"
  },
  "language_info": {
   "codemirror_mode": {
    "name": "ipython",
    "version": 2
   },
   "file_extension": ".py",
   "mimetype": "text/x-python",
   "name": "python",
   "nbconvert_exporter": "python",
   "pygments_lexer": "ipython2",
   "version": "2.7.14"
  }
 },
 "nbformat": 4,
 "nbformat_minor": 1
}
